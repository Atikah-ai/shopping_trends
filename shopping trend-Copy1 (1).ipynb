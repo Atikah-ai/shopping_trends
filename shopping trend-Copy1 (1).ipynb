{
 "cells": [
  {
   "cell_type": "code",
   "execution_count": null,
   "id": "1f6996cd-5a5e-42c1-a7db-258869517d96",
   "metadata": {},
   "outputs": [],
   "source": [
    "import pandas\n",
    "\n",
    "data = pandas.read_csv(\"D:/shopping_trends.csv\", delimiter=';')\n",
    "data.head()\n",
    "print(data)"
   ]
  },
  {
   "cell_type": "code",
   "execution_count": null,
   "id": "8438c768-d2d0-425f-920c-871592f584b3",
   "metadata": {},
   "outputs": [],
   "source": [
    "import pandas\n",
    "\n",
    "data = pandas.read_csv(\"D:/shopping_trends.csv\", delimiter=';')\n",
    "data.head()\n",
    "data_info = data.info()\n",
    "data_head = data.head()"
   ]
  },
  {
   "cell_type": "code",
   "execution_count": null,
   "id": "28b7e1ea-52db-40e6-bf85-f58d9e187de4",
   "metadata": {},
   "outputs": [],
   "source": [
    "import numpy as np\n",
    "import pandas as pd\n",
    "import seaborn as sns\n",
    "import matplotlib.pyplot as plt\n",
    "plt.style.use('fivethirtyeight')\n",
    "import warnings\n",
    "warnings.filterwarnings('ignore')"
   ]
  },
  {
   "cell_type": "code",
   "execution_count": null,
   "id": "2421d665-c6d4-429e-9a7b-c6732c18a9fe",
   "metadata": {},
   "outputs": [],
   "source": [
    "grafik=pd.read_csv(\"D:/shopping_trends.csv\",delimiter=';')"
   ]
  },
  {
   "cell_type": "code",
   "execution_count": null,
   "id": "250a96c8-ac7f-42bd-8c97-fc996e589662",
   "metadata": {},
   "outputs": [],
   "source": [
    "grafik.head()"
   ]
  },
  {
   "cell_type": "code",
   "execution_count": null,
   "id": "fbac3534-71fd-4ad7-9953-2db6cdefb635",
   "metadata": {},
   "outputs": [],
   "source": [
    "import pandas\n",
    "data = pandas.read_csv(\"D:/shopping_trends.csv\", delimiter=';')\n",
    "print(data.iloc[5])"
   ]
  },
  {
   "cell_type": "code",
   "execution_count": null,
   "id": "34b4ada3-4fe1-47ea-9361-cb9c733391ad",
   "metadata": {},
   "outputs": [],
   "source": [
    "import pandas\n",
    "data = pandas.read_csv(\"D:/shopping_trends.csv\", delimiter=';')\n",
    "print(data.describe(include='all'))"
   ]
  },
  {
   "cell_type": "code",
   "execution_count": null,
   "id": "437e1405-5c68-45c8-be70-d722af545648",
   "metadata": {},
   "outputs": [],
   "source": [
    "import pandas\n",
    "data = pandas.read_csv(\"D:/shopping_trends.csv\", delimiter=';')\n",
    "print(data.isnull().values.any())\n",
    "print(data.isnull().sum(axis=0))"
   ]
  },
  {
   "cell_type": "code",
   "execution_count": null,
   "id": "6e1669c6-eefd-4061-a84c-4cb6e1e7d81d",
   "metadata": {},
   "outputs": [],
   "source": [
    "data=data.dropna()\n",
    "print(data.describe(include='all'))"
   ]
  },
  {
   "cell_type": "code",
   "execution_count": null,
   "id": "8e0aa6b6-9cd5-42ad-ac7e-bb5299e7d1dc",
   "metadata": {},
   "outputs": [],
   "source": [
    "#isi data kosong dengan mean atau median \n",
    "#jika nilai memiliki sedikit data outlier maka diisi nilai mean\n",
    "#jika nilai memiliki banyak data outlier maka diisi nilai mean"
   ]
  },
  {
   "cell_type": "code",
   "execution_count": null,
   "id": "bbc5e92b-408a-4e5a-a360-5c8911736f34",
   "metadata": {},
   "outputs": [],
   "source": [
    "#outlier mengunakan Menggunakan IQR (Interquartile Range)\n",
    "import numpy as np\n",
    "\n",
    "# Kolom yang akan dianalisis untuk outlier\n",
    "columns_to_check = [\"Age\", \"Purchase Amount (USD)\", \"Review Rating\"]\n",
    "\n",
    "for column in columns_to_check:\n",
    "    # Data kolom\n",
    "    data_values = data[column]\n",
    "    \n",
    "    # Hitung Q1, Q3, dan IQR\n",
    "    Q1 = np.percentile(data_values, 25)\n",
    "    Q3 = np.percentile(data_values, 75)\n",
    "    IQR = Q3 - Q1\n",
    "\n",
    "    lower_bound = Q1 - 1.5 * IQR\n",
    "    upper_bound = Q3 + 1.5 * IQR\n",
    "\n",
    "    # Identifikasi outliers\n",
    "    outliers = data_values[(data_values < lower_bound) | (data_values > upper_bound)]\n",
    "    \n",
    "    print(f\"Outliers in '{column}' (IQR Method): {outliers.tolist()}\")\n"
   ]
  },
  {
   "cell_type": "code",
   "execution_count": null,
   "id": "49f12019-3b4a-4dfa-9272-7ddd9f1ea7b1",
   "metadata": {},
   "outputs": [],
   "source": [
    "#outlier mengunakan boxplot satuan\n",
    "import seaborn as sns\n",
    "import matplotlib.pyplot as plt\n",
    "\n",
    "plt.figure(figsize=(8, 4))\n",
    "sns.boxplot(x=data[\"Purchase Amount (USD)\"])\n",
    "plt.title(\"Outlier Detection Using Boxplot\")\n",
    "plt.show()"
   ]
  },
  {
   "cell_type": "code",
   "execution_count": null,
   "id": "bb746b2c-f800-403d-b457-b0a01f333c37",
   "metadata": {},
   "outputs": [],
   "source": [
    "#outlier mengunakan boxplot gabung\n",
    "import seaborn as sns\n",
    "import matplotlib.pyplot as plt\n",
    "\n",
    "# Kolom numerik yang akan dianalisis\n",
    "columns_to_plot = [\"Age\", \"Purchase Amount (USD)\", \"Review Rating\"]\n",
    "\n",
    "plt.figure(figsize=(12, 6))\n",
    "\n",
    "for i, column in enumerate(columns_to_plot, 1):\n",
    "    plt.subplot(1, len(columns_to_plot), i)\n",
    "    sns.boxplot(x=data[column])\n",
    "    plt.title(f\"Boxplot of {column}\")\n",
    "\n",
    "plt.tight_layout()\n",
    "plt.show()\n"
   ]
  },
  {
   "cell_type": "code",
   "execution_count": null,
   "id": "e6ad3a5a-c017-404a-9aaa-52bf4e50f786",
   "metadata": {},
   "outputs": [],
   "source": [
    "# outlier Menggunakan Isolation Forest (Machine Learning)\n",
    "from sklearn.ensemble import IsolationForest\n",
    "\n",
    "iso_forest = IsolationForest(contamination=0.05)\n",
    "outlier_flags = iso_forest.fit_predict(data[[\"Age\",\"Purchase Amount (USD)\",\"Review Rating\"]])\n",
    "\n",
    "# Filter data outlier\n",
    "outliers = data[outlier_flags == -1]\n",
    "print(\"Outliers detected by Isolation Forest:\")\n",
    "print(outliers)\n"
   ]
  },
  {
   "cell_type": "code",
   "execution_count": null,
   "id": "72d932ed-4403-4d47-9abd-afd2ea953932",
   "metadata": {},
   "outputs": [],
   "source": [
    "#dari ketiga uji diatas dinyatakan bahwa tidak ada oulier\n",
    "#kesimpulan : menambahkan data yg hilang dengan nilai mean"
   ]
  },
  {
   "cell_type": "code",
   "execution_count": null,
   "id": "fdb998d8-2799-4e69-ab94-0887be425fbe",
   "metadata": {},
   "outputs": [],
   "source": [
    "import pandas\n",
    "data = pandas.read_csv(\"D:/shopping_trends.csv\", delimiter=';')\n",
    "print(data['Age'].mean())\n",
    "print(data[\"Purchase Amount (USD)\"].mean())\n",
    "print(data['Review Rating'].mean())"
   ]
  },
  {
   "cell_type": "code",
   "execution_count": null,
   "id": "ef457877-b57a-43d7-916c-e77517805889",
   "metadata": {},
   "outputs": [],
   "source": [
    "data=data.fillna(data['Age'].mean())\n",
    "data=data.fillna(data['Purchase Amount (USD)'].mean())\n",
    "data=data.fillna(data['Review Rating'].mean())\n",
    "print(data.head)"
   ]
  },
  {
   "cell_type": "code",
   "execution_count": null,
   "id": "56e1af8c-fed4-43da-a67e-b3fe98cff408",
   "metadata": {},
   "outputs": [],
   "source": [
    "import pandas as pd\n",
    "\n",
    "# Membaca data CSV\n",
    "data = pd.read_csv(\"D:/shopping_trends.csv\", delimiter=';')\n",
    "\n",
    "# Mengisi nilai NaN pada setiap kolom dengan rata-rata masing-masing kolom\n",
    "data_filled = data.apply(lambda col: col.fillna(col.mean()) if col.dtypes != 'object' else col)\n",
    "\n",
    "# Menampilkan hasilnya\n",
    "print(\"Dataset yang sudah diisi dengan rata-rata:\")\n",
    "print(data_filled)"
   ]
  },
  {
   "cell_type": "code",
   "execution_count": null,
   "id": "e3bc354e-bd87-4385-a4f4-82d115d17c6c",
   "metadata": {},
   "outputs": [],
   "source": [
    "# Mengisi hanya kolom numerik dengan rata-rata\n",
    "num_cols = data.select_dtypes(include=['number']).columns\n",
    "data[num_cols] = data[num_cols].apply(lambda x: x.fillna(x.mean()))"
   ]
  },
  {
   "cell_type": "code",
   "execution_count": null,
   "id": "05cbb51e-b154-452a-b79f-3d9dc30ab352",
   "metadata": {},
   "outputs": [],
   "source": [
    "import matplotlib.pyplot as plt\n",
    "import seaborn as sns\n",
    "\n",
    "# Plot distribusi usia pelanggan\n",
    "plt.figure(figsize=(10, 6))\n",
    "ax=sns.histplot(data=data, x=\"Age\", bins=20, kde=True, color='skyblue')\n",
    "# Tambahkan nilai di atas bar\n",
    "for container in ax.containers:\n",
    "    ax.bar_label(container)\n",
    "plt.title(\"Distribusi Usia Pelanggan\")\n",
    "plt.xlabel(\"Usia\")\n",
    "plt.ylabel(\"Frekuensi\")\n",
    "plt.show()"
   ]
  },
  {
   "cell_type": "code",
   "execution_count": null,
   "id": "c79795e5-2a83-4290-8561-b218758cb8d8",
   "metadata": {},
   "outputs": [],
   "source": [
    "import pandas as pd\n",
    "\n",
    "# Hitung total pembelian per kombinasi Gender dan Lokasi\n",
    "purchase_by_gender_location = data.groupby(['Gender', 'Location'])['Purchase Amount (USD)'].sum().reset_index()\n",
    "\n",
    "print(\"Total Pembelian Berdasarkan Gender dan Lokasi:\")\n",
    "print(purchase_by_gender_location.head())"
   ]
  },
  {
   "cell_type": "code",
   "execution_count": null,
   "id": "fbe122be-439f-45c8-a0fc-d6690005da32",
   "metadata": {},
   "outputs": [],
   "source": [
    "import seaborn as sns\n",
    "import matplotlib.pyplot as plt\n",
    "\n",
    "plt.figure(figsize=(15, 6))\n",
    "ax=sns.barplot(\n",
    "    x=\"Location\", y=\"Purchase Amount (USD)\", hue=\"Gender\", \n",
    "    data=purchase_by_gender_location, palette='pastel'\n",
    ")\n",
    "# Tambahkan nilai di atas bar\n",
    "for container in ax.containers:\n",
    "    ax.bar_label(container)\n",
    "plt.title(\"Preferensi Pembelian Berdasarkan Gender dan Lokasi\")\n",
    "plt.xticks(rotation=45)\n",
    "plt.show()\n"
   ]
  },
  {
   "cell_type": "code",
   "execution_count": null,
   "id": "2e1892bf-f38c-44e3-a03c-84a2cb27e5ca",
   "metadata": {},
   "outputs": [],
   "source": [
    "purchase_count = data.groupby(['Gender', 'Location']).size().reset_index(name='Purchase Count')\n",
    "print(\"Jumlah Transaksi per Gender dan Lokasi:\")\n",
    "print(purchase_count.head())\n"
   ]
  },
  {
   "cell_type": "code",
   "execution_count": null,
   "id": "814e8cb7-29a6-47b5-97d9-5f76129ba0fb",
   "metadata": {},
   "outputs": [],
   "source": [
    "# Produk yang paling sering dibeli\n",
    "top_products = data[\"Item Purchased\"].value_counts().reset_index()\n",
    "top_products.columns = [\"Item Purchased\", \"Frequency\"]\n",
    "print(\"Produk Paling Populer:\\n\", top_products.head())\n",
    "\n",
    "# Kategori yang paling sering dibeli\n",
    "top_categories = data[\"Category\"].value_counts().reset_index()\n",
    "top_categories.columns = [\"Category\", \"Frequency\"]\n",
    "print(\"\\nKategori Paling Populer:\\n\", top_categories.head())\n"
   ]
  },
  {
   "cell_type": "code",
   "execution_count": null,
   "id": "d43813f6-0873-4845-8fd7-ab959c9a3d2d",
   "metadata": {},
   "outputs": [],
   "source": [
    "import matplotlib.pyplot as plt\n",
    "import seaborn as sns\n",
    "\n",
    "# Plot Produk Terpopuler\n",
    "plt.figure(figsize=(12, 5))\n",
    "ax= sns.barplot(x=\"Frequency\", y=\"Item Purchased\", data=top_products.head(10), palette=\"Blues_r\")\n",
    "# Tambahkan nilai di samping bar\n",
    "for container in ax.containers:\n",
    "    ax.bar_label(container, fmt='%.2f', padding=5)\n",
    "plt.title(\"10 Produk Terpopuler\")\n",
    "plt.show()\n",
    "\n",
    "# Plot Kategori Terpopuler\n",
    "plt.figure(figsize=(8, 5))\n",
    "ax= sns.barplot(x=\"Frequency\", y=\"Category\", data=top_categories.head(10), palette=\"Pastel1\")\n",
    "# Tambahkan nilai di samping bar\n",
    "for container in ax.containers:\n",
    "    ax.bar_label(container, fmt='%.2f', padding=5)\n",
    "plt.title(\"Kategori Terpopuler\")\n",
    "plt.show()"
   ]
  },
  {
   "cell_type": "code",
   "execution_count": null,
   "id": "e1f898db-3fed-4aa8-ada0-b9ce0bcae60e",
   "metadata": {},
   "outputs": [],
   "source": [
    "# Hitung frekuensi warna yang paling sering dibeli\n",
    "top_colors = data[\"Color\"].value_counts().reset_index()\n",
    "top_colors.columns = [\"Color\", \"Frequency\"]\n",
    "print(\"Warna Produk Paling Sering Dibeli:\\n\", top_colors.head())\n",
    "\n",
    "# Hitung frekuensi ukuran yang paling sering dibeli\n",
    "top_sizes = data[\"Size\"].value_counts().reset_index()\n",
    "top_sizes.columns = [\"Size\", \"Frequency\"]\n",
    "print(\"\\nUkuran Produk Paling Sering Dibeli:\\n\", top_sizes.head())\n"
   ]
  },
  {
   "cell_type": "code",
   "execution_count": null,
   "id": "4de85fee-f6e0-4039-b86d-398a63115b80",
   "metadata": {},
   "outputs": [],
   "source": [
    "import matplotlib.pyplot as plt\n",
    "import seaborn as sns\n",
    "\n",
    "# Plot Warna Terpopuler\n",
    "plt.figure(figsize=(10, 5))\n",
    "ax= sns.barplot(x=\"Frequency\", y=\"Color\", data=top_colors.head(10), palette=\"coolwarm\")\n",
    "# Tambahkan nilai di samping bar\n",
    "for container in ax.containers:\n",
    "    ax.bar_label(container, fmt='%.2f', padding=5)\n",
    "plt.title(\"Warna Produk Terpopuler\")\n",
    "plt.show()\n",
    "\n",
    "# Plot Ukuran Terpopuler\n",
    "plt.figure(figsize=(10, 5))\n",
    "ax= sns.barplot(x=\"Frequency\", y=\"Size\", data=top_sizes.head(10), palette=\"crest\")\n",
    "# Tambahkan nilai di samping bar\n",
    "for container in ax.containers:\n",
    "    ax.bar_label(container, fmt='%.2f', padding=5)\n",
    "plt.title(\"Ukuran Produk Terpopuler\")\n",
    "plt.show()\n"
   ]
  },
  {
   "cell_type": "code",
   "execution_count": null,
   "id": "b5b9b154-dbab-4f95-8e3e-4f06e89f4db5",
   "metadata": {},
   "outputs": [],
   "source": [
    "# Hitung kombinasi warna dan ukuran\n",
    "color_size_popularity = data.groupby([\"Color\", \"Size\"]).size().reset_index(name=\"Frequency\")\n",
    "color_size_popularity = color_size_popularity.sort_values(by=\"Frequency\", ascending=False)\n",
    "\n",
    "print(\"\\nKombinasi Warna dan Ukuran Terpopuler:\\n\", color_size_popularity.head(10))"
   ]
  },
  {
   "cell_type": "code",
   "execution_count": null,
   "id": "97d1dba6-dfd3-4789-ad41-aca53ce42845",
   "metadata": {},
   "outputs": [],
   "source": [
    "# Kelompokkan berdasarkan status promo/diskon\n",
    "promo_effect = data.groupby(\"Discount Applied\")[\"Purchase Amount (USD)\"].agg([\"mean\", \"sum\", \"count\"]).reset_index()\n",
    "promo_effect.columns = [\"Discount Applied\", \"Average Purchase\", \"Total Purchase\", \"Number of Purchases\"]\n",
    "\n",
    "print(\"Pengaruh Diskon terhadap Jumlah Pembelian:\\n\", promo_effect)"
   ]
  },
  {
   "cell_type": "code",
   "execution_count": null,
   "id": "68f53e9d-972d-4432-b241-470ad2986f55",
   "metadata": {},
   "outputs": [],
   "source": [
    "import seaborn as sns\n",
    "import matplotlib.pyplot as plt\n",
    "\n",
    "plt.figure(figsize=(10, 5))\n",
    "ax= sns.barplot(data=promo_effect, x=\"Discount Applied\", y=\"Average Purchase\", palette=\"Blues_r\")\n",
    "# Tambahkan nilai di atas bar\n",
    "for container in ax.containers:\n",
    "    ax.bar_label(container)\n",
    "plt.title(\"Rata-rata Pembelian Berdasarkan Diskon\")\n",
    "plt.show()"
   ]
  },
  {
   "cell_type": "code",
   "execution_count": null,
   "id": "c5b0aa2a-4351-4225-af6f-3573076470de",
   "metadata": {},
   "outputs": [],
   "source": [
    "# Menghitung jumlah pembelian per metode pembayaran\n",
    "payment_frequency = data[\"Payment Method\"].value_counts().reset_index()\n",
    "payment_frequency.columns = [\"Payment Method\", \"Frequency\"]\n",
    "\n",
    "print(\"Frekuensi Pembelian Berdasarkan Metode Pembayaran:\\n\", payment_frequency.head())"
   ]
  },
  {
   "cell_type": "code",
   "execution_count": null,
   "id": "44f8df4f-2c50-4fa2-b47d-9ac53a5eab47",
   "metadata": {},
   "outputs": [],
   "source": [
    "import seaborn as sns\n",
    "import matplotlib.pyplot as plt\n",
    "\n",
    "plt.figure(figsize=(10, 6))\n",
    "ax= sns.barplot(data=payment_frequency, x=\"Frequency\", y=\"Payment Method\", palette=\"Blues_r\")\n",
    "# Tambahkan nilai di samping bar\n",
    "for container in ax.containers:\n",
    "    ax.bar_label(container, fmt='%.2f', padding=5)\n",
    "plt.title(\"Metode Pembayaran Paling Populer\")\n",
    "plt.xlabel(\"Jumlah Pembelian\")\n",
    "plt.show()\n"
   ]
  },
  {
   "cell_type": "code",
   "execution_count": null,
   "id": "dedeabf0-8905-4a78-aa13-8daf1b051f69",
   "metadata": {},
   "outputs": [],
   "source": [
    "# Korelasi antara review rating dan jumlah pembelian\n",
    "correlation = data[[\"Review Rating\", \"Purchase Amount (USD)\"]].corr()\n",
    "print(\"Korelasi Review Rating dengan Jumlah Pembelian:\\n\", correlation)"
   ]
  },
  {
   "cell_type": "code",
   "execution_count": null,
   "id": "b507fb38-88f0-44c9-9dca-145415c6915e",
   "metadata": {},
   "outputs": [],
   "source": [
    "import seaborn as sns\n",
    "import matplotlib.pyplot as plt\n",
    "\n",
    "plt.figure(figsize=(10, 6))\n",
    "sns.scatterplot(data=data, x=\"Review Rating\", y=\"Purchase Amount (USD)\", hue=\"Review Rating\", palette=\"viridis\")\n",
    "plt.title(\"Hubungan antara Ulasan Pelanggan dan Jumlah Pembelian\")\n",
    "plt.xlabel(\"Review Rating\")\n",
    "plt.ylabel(\"Jumlah Pembelian (USD)\")\n",
    "plt.show()\n"
   ]
  },
  {
   "cell_type": "code",
   "execution_count": null,
   "id": "eeeb6b3e-ed27-4cf8-91af-ed086319522e",
   "metadata": {},
   "outputs": [],
   "source": [
    "plt.figure(figsize=(10, 6))\n",
    "sns.boxplot(data=data, x=\"Review Rating\", y=\"Purchase Amount (USD)\", palette=\"Blues\")\n",
    "plt.title(\"Distribusi Jumlah Pembelian Berdasarkan Ulasan Pelanggan\")\n",
    "plt.show()"
   ]
  },
  {
   "cell_type": "code",
   "execution_count": null,
   "id": "04ce749c-69b7-4203-9636-0c6cd532dd39",
   "metadata": {},
   "outputs": [],
   "source": [
    "rating_purchase = data.groupby(\"Review Rating\")[\"Purchase Amount (USD)\"].mean().reset_index()\n",
    "print(\"Rata-rata Pembelian Berdasarkan Review Rating:\\n\", rating_purchase)"
   ]
  },
  {
   "cell_type": "code",
   "execution_count": null,
   "id": "66d7fdab-ae7a-4743-859a-33c3426e99d6",
   "metadata": {},
   "outputs": [],
   "source": [
    "# Frekuensi pembelian per kategori\n",
    "popular_category = data[\"Category\"].value_counts().reset_index()\n",
    "popular_category.columns = [\"Category\", \"Frequency\"]\n",
    "\n",
    "print(\"Kategori Produk Terpopuler:\\n\", popular_category.head())"
   ]
  },
  {
   "cell_type": "code",
   "execution_count": null,
   "id": "2f4b6d87-0097-495e-8c40-0d2cefb48f7e",
   "metadata": {},
   "outputs": [],
   "source": [
    "# Frekuensi pembelian per ukuran\n",
    "popular_size = data[\"Size\"].value_counts().reset_index()\n",
    "popular_size.columns = [\"Size\", \"Frequency\"]\n",
    "\n",
    "print(\"Ukuran Produk Terpopuler:\\n\", popular_size.head())\n"
   ]
  },
  {
   "cell_type": "code",
   "execution_count": null,
   "id": "23b17212-5f24-48a4-aad6-2261a2352684",
   "metadata": {},
   "outputs": [],
   "source": [
    "# Frekuensi pembelian per kategori dan ukuran\n",
    "popular_combo = data.groupby([\"Category\", \"Size\"]).size().reset_index(name=\"Frequency\")\n",
    "popular_combo = popular_combo.sort_values(by=\"Frequency\", ascending=False)\n",
    "\n",
    "print(\"Kategori dan Ukuran Produk Terpopuler:\\n\", popular_combo.head())\n"
   ]
  },
  {
   "cell_type": "code",
   "execution_count": null,
   "id": "b8122b8c-537c-4c0a-a301-f1af60ed703b",
   "metadata": {},
   "outputs": [],
   "source": [
    "import seaborn as sns\n",
    "import matplotlib.pyplot as plt\n",
    "\n",
    "plt.figure(figsize=(12, 6))\n",
    "ax= sns.barplot(data=popular_combo.head(10), x=\"Frequency\", y=\"Category\", hue=\"Size\", palette=\"Blues\")\n",
    "# Tambahkan nilai di samping bar\n",
    "for container in ax.containers:\n",
    "    ax.bar_label(container, fmt='%.2f', padding=5)\n",
    "plt.title(\"Kategori dan Ukuran Produk Terpopuler\")\n",
    "plt.xlabel(\"Frekuensi Pembelian\")\n",
    "plt.show()\n"
   ]
  },
  {
   "cell_type": "code",
   "execution_count": null,
   "id": "a36ec052-68f3-4e5b-834b-478a5bb989e3",
   "metadata": {},
   "outputs": [],
   "source": [
    "#Strategi Peningkatan Penawaran\n",
    "#Stok dan Promosi: Tambahkan stok untuk kombinasi kategori dan ukuran yang populer.\n",
    "#Diskon Target: Berikan diskon atau promo spesifik untuk mendorong pembelian kategori yang paling populer.\n",
    "#Rekomendasi Produk: Tampilkan produk dengan kategori dan ukuran terpopuler dalam halaman rekomendasi.\n",
    "#Bundle Offers: Kombinasikan produk terpopuler dengan barang lain untuk meningkatkan penjualan total."
   ]
  },
  {
   "cell_type": "code",
   "execution_count": null,
   "id": "191cb6ac-2495-44d1-9748-1888118844d4",
   "metadata": {},
   "outputs": [],
   "source": [
    "import matplotlib.pyplot as plt\n",
    "\n",
    "# Hitung frekuensi pembelian\n",
    "purchase_frequency_counts = data[\"Frequency of Purchases\"].value_counts()\n",
    "\n",
    "# Plot pie chart dengan persentase dan jumlah\n",
    "plt.figure(figsize=(8, 8))\n",
    "plt.pie(\n",
    "    purchase_frequency_counts, \n",
    "    labels=[f\"{label} ({value})\" for label, value in zip(purchase_frequency_counts.index, purchase_frequency_counts.values)],\n",
    "    autopct='%1.1f%%', \n",
    "    colors=plt.cm.Pastel1.colors,\n",
    ")\n",
    "plt.title(\"Distribusi Frekuensi Pembelian\")\n",
    "plt.show()\n"
   ]
  },
  {
   "cell_type": "code",
   "execution_count": null,
   "id": "3105631c-939f-42a8-91ba-70bc9810d0fa",
   "metadata": {},
   "outputs": [],
   "source": [
    "import seaborn as sns\n",
    "import matplotlib.pyplot as plt\n",
    "\n",
    "# Agregasi data berdasarkan Frequency of Purchases dan Discount Applied\n",
    "purchase_discount_data = data.groupby([\"Frequency of Purchases\", \"Discount Applied\"]).size().reset_index(name=\"Count\")\n",
    "\n",
    "plt.figure(figsize=(12, 6))\n",
    "ax = sns.barplot(\n",
    "    data=purchase_discount_data, \n",
    "    x=\"Frequency of Purchases\", \n",
    "    y=\"Count\", \n",
    "    hue=\"Discount Applied\", \n",
    "    palette=\"Set2\"\n",
    ")\n",
    "\n",
    "# Tambahkan nilai di atas setiap bar\n",
    "for container in ax.containers:\n",
    "    ax.bar_label(container, fmt='%d', padding=3)\n",
    "\n",
    "plt.title(\"Analisis Frekuensi Pembelian dengan Diskon\")\n",
    "plt.xlabel(\"Frekuensi Pembelian\")\n",
    "plt.ylabel(\"Jumlah Pembelian\")\n",
    "plt.show()\n",
    "#Interpretasi Potensial\n",
    "#Pembelian Berulang dan Diskon: Jika frekuensi tinggi terkait dengan diskon, ini menunjukkan pelanggan responsif terhadap promosi.\n",
    "#Frekuensi Pembelian Rendah Tanpa Diskon: Berikan penawaran menarik untuk mendorong mereka membeli lebih sering."
   ]
  },
  {
   "cell_type": "code",
   "execution_count": null,
   "id": "d2d1f1a3-efec-470c-9ed0-1e568eaeb0c0",
   "metadata": {},
   "outputs": [],
   "source": [
    "plt.figure(figsize=(12, 6))\n",
    "ax = sns.barplot(\n",
    "    data=purchase_discount_data, \n",
    "    x=\"Frequency of Purchases\", \n",
    "    y=\"Count\", \n",
    "    hue=\"Season\", \n",
    "    palette=\"Set2\"\n",
    ")\n",
    "\n",
    "# Tambahkan nilai di atas bar\n",
    "for container in ax.containers:\n",
    "    ax.bar_label(container)\n",
    "\n",
    "plt.title(\"Analisis Frekuensi Pembelian Berdasarkan Musim\")\n",
    "plt.xlabel(\"Frekuensi Pembelian\")\n",
    "plt.ylabel(\"Jumlah Pembelian\")\n",
    "plt.legend(title=\"Musim\")\n",
    "plt.show()\n",
    "#Interpretasi Potensial\n",
    "#Frekuensi Tinggi pada Musim Tertentu: Fokuskan promosi saat musim dengan pembelian tinggi.\n",
    "#Frekuensi Rendah: Berikan diskon tambahan di musim yang tidak terlalu ramai untuk meningkatkan penjualan."
   ]
  },
  {
   "cell_type": "code",
   "execution_count": null,
   "id": "853ba657-8632-44b0-ac01-264f59f4cae5",
   "metadata": {},
   "outputs": [],
   "source": [
    "location_sales = data.groupby(\"Location\")[\"Purchase Amount (USD)\"].sum().reset_index()\n",
    "location_sales = location_sales.sort_values(by=\"Purchase Amount (USD)\", ascending=False)\n",
    "\n",
    "print(\"Penjualan Berdasarkan Lokasi:\\n\", location_sales.head())\n"
   ]
  },
  {
   "cell_type": "code",
   "execution_count": null,
   "id": "4730f867-09ad-4ee0-af54-283644c12197",
   "metadata": {},
   "outputs": [],
   "source": [
    "import seaborn as sns\n",
    "import matplotlib.pyplot as plt\n",
    "\n",
    "plt.figure(figsize=(12, 6))\n",
    "ax = sns.barplot(data=location_sales.head(10), \n",
    "                  x=\"Purchase Amount (USD)\", \n",
    "                  y=\"Location\", \n",
    "                  palette=\"Greens\")\n",
    "\n",
    "# Tambahkan nilai di samping bar\n",
    "for container in ax.containers:\n",
    "    ax.bar_label(container, fmt='%.2f', padding=5)\n",
    "\n",
    "plt.title(\"Lokasi dengan Penjualan Tertinggi\")\n",
    "plt.xlabel(\"Total Penjualan (USD)\")\n",
    "plt.show()\n"
   ]
  },
  {
   "cell_type": "code",
   "execution_count": null,
   "id": "f9964376-f8f7-4149-afb6-72ea17b92117",
   "metadata": {},
   "outputs": [],
   "source": [
    "#Strategi Optimalisasi Promosi\n",
    "#Waktu Optimal: Jika penjualan puncak terjadi pada bulan tertentu, rancang promosi besar saat periode tersebut.\n",
    "#Lokasi Fokus: Targetkan promosi pada lokasi dengan penjualan tertinggi, seperti diskon khusus untuk pelanggan lokal.\n",
    "#Kampanye Berbasis Waktu: Sesuaikan waktu promosi dengan jam-jam puncak pembelian yang ditemukan dari analisis Hour.\n",
    "#Bundle Seasonal Offers: Kombinasikan penawaran produk yang sesuai dengan tren musiman."
   ]
  },
  {
   "cell_type": "code",
   "execution_count": null,
   "id": "4c6fbe10-e53c-4526-898f-9e6173dd8dba",
   "metadata": {},
   "outputs": [],
   "source": [
    "# Frekuensi pembelian per metode pembayaran\n",
    "payment_counts = data[\"Payment Method\"].value_counts().reset_index()\n",
    "payment_counts.columns = [\"Payment Method\", \"Frequency\"]\n",
    "\n",
    "print(\"Metode Pembayaran Terpopuler:\\n\", payment_counts)"
   ]
  },
  {
   "cell_type": "code",
   "execution_count": null,
   "id": "429b47be-7337-4787-8515-cbab00c0eea3",
   "metadata": {},
   "outputs": [],
   "source": [
    "import matplotlib.pyplot as plt\n",
    "import seaborn as sns\n",
    "\n",
    "plt.figure(figsize=(10, 6))\n",
    "ax= sns.barplot(data=payment_counts, x=\"Frequency\", y=\"Payment Method\", palette=\"Blues_r\")\n",
    "for container in ax.containers:\n",
    "    ax.bar_label(container, fmt='%.2f', padding=5)\n",
    "plt.title(\"Metode Pembayaran Terpopuler\")\n",
    "plt.xlabel(\"Jumlah Pembelian\")\n",
    "plt.show()"
   ]
  },
  {
   "cell_type": "code",
   "execution_count": null,
   "id": "e3b77dd6-1312-4478-8aa5-adf844401a39",
   "metadata": {
    "scrolled": true
   },
   "outputs": [],
   "source": [
    "import matplotlib.pyplot as plt\n",
    "import seaborn as sns\n",
    "\n",
    "# Menambahkan jumlah langsung dalam label\n",
    "labels = [f\"{method} ({count})\" for method, count in zip(payment_counts[\"Payment Method\"], payment_counts[\"Frequency\"])]\n",
    "\n",
    "plt.figure(figsize=(8, 8))\n",
    "plt.pie(\n",
    "    payment_counts[\"Frequency\"], \n",
    "    labels=labels, \n",
    "    autopct='%1.1f%%', \n",
    "    colors=sns.color_palette(\"pastel\")\n",
    ")\n",
    "plt.title(\"Proporsi Metode Pembayaran\")\n",
    "plt.show()\n"
   ]
  },
  {
   "cell_type": "code",
   "execution_count": null,
   "id": "fb69202d-db71-4c86-93ef-50931d5482aa",
   "metadata": {},
   "outputs": [],
   "source": [
    "#Strategi Optimalisasi Penawaran Berdasarkan Preferensi\n",
    "#Promosi Pembayaran Digital: Jika pembayaran digital (seperti e-wallet) populer, buat program cashback atau diskon khusus.\n",
    "#diversifikasi Metode: Tambahkan opsi pembayaran baru jika ada kebutuhan.\n",
    "#Layanan Cicilan: Untuk metode pembayaran dengan jumlah besar, pertimbangkan penawaran cicilan tanpa bunga.\n",
    "#Promosi Partnership: Kerja sama dengan bank atau platform pembayaran untuk meningkatkan penggunaan metode tersebut."
   ]
  },
  {
   "cell_type": "code",
   "execution_count": null,
   "id": "059175d3-4fd0-4942-842a-e0206e3bc42a",
   "metadata": {},
   "outputs": [],
   "source": [
    "import pandas as pd\n",
    "\n",
    "# Menghitung jumlah pembelian berdasarkan Color, Season, dan Category\n",
    "color_season_category = data.groupby([\"Color\", \"Season\", \"Category\"]).size().reset_index(name=\"Purchase Count\")\n",
    "\n",
    "# Urutkan data dari yang terbanyak\n",
    "color_season_category = color_season_category.sort_values(\"Purchase Count\", ascending=False)\n",
    "print(color_season_category.head(10))\n"
   ]
  },
  {
   "cell_type": "code",
   "execution_count": null,
   "id": "ad735b04-f940-4161-819e-6bd9c95f340d",
   "metadata": {},
   "outputs": [],
   "source": [
    "import pandas as pd\n",
    "import matplotlib.pyplot as plt\n",
    "\n",
    "# Contoh DataFrame\n",
    "data = pd.DataFrame({\n",
    "    \"Category\": [\"Clothing\", \"Accessories\", \"Footwear\", \"Outerwear\", \"Clothing\"],\n",
    "    \"Color\": [\"Red\", \"Blue\", \"Green\", \"Yellow\", \"Red\"],\n",
    "    \"Season\": [\"Spring\", \"Fall\", \"Winter\", \"Summer\", \"Spring\"],\n",
    "    \"Purchase Count\": [120, 95, 80, 45, 150]\n",
    "})\n",
    "\n",
    "# Agregasi data berdasarkan kategori\n",
    "color_season_category = data.groupby([\"Category\", \"Color\", \"Season\"])[\"Purchase Count\"].sum().reset_index()\n",
    "\n",
    "# Agregasi top kategori berdasarkan jumlah pembelian\n",
    "top_categories = color_season_category.groupby(\"Category\")[\"Purchase Count\"].sum().reset_index()\n",
    "top_categories = top_categories.sort_values(\"Purchase Count\", ascending=False)\n",
    "\n",
    "# Visualisasi\n",
    "plt.figure(figsize=(10, 6))\n",
    "plt.bar(top_categories[\"Category\"], top_categories[\"Purchase Count\"], color=\"skyblue\")\n",
    "plt.title(\"Kategori dengan Jumlah Pembelian Tertinggi\")\n",
    "plt.xlabel(\"Kategori Produk\")\n",
    "plt.ylabel(\"Jumlah Pembelian\")\n",
    "plt.show()\n"
   ]
  },
  {
   "cell_type": "code",
   "execution_count": null,
   "id": "9559c46a-b160-44e2-8601-546fbe730752",
   "metadata": {},
   "outputs": [],
   "source": [
    "top_categories = color_season_category.groupby(\"Category\")[\"Purchase Count\"].sum().reset_index()\n",
    "top_categories = top_categories.sort_values(\"Purchase Count\", ascending=False)\n",
    "\n",
    "plt.figure(figsize=(10, 6))\n",
    "ax= sns.barplot(data=top_categories.head(5), x=\"Category\", y=\"Purchase Count\", palette=\"Set2\")\n",
    "# Tambahkan angka di atas kolom\n",
    "for container in ax.containers:\n",
    "    ax.bar_label(container, fmt='%d')\n",
    "plt.title(\"Kategori Produk dengan Pembelian Terbanyak\")\n",
    "plt.show()"
   ]
  },
  {
   "cell_type": "code",
   "execution_count": null,
   "id": "997a43c6-590d-49a5-bb19-6e0938eb8240",
   "metadata": {},
   "outputs": [],
   "source": [
    "plt.figure(figsize=(10, 6))\n",
    "ax = sns.barplot(\n",
    "    data=top_categories.head(5), \n",
    "    x=\"Category\", \n",
    "    y=\"Purchase Count\", \n",
    "    hue=\"Category\",  # Gunakan hue untuk pewarnaan\n",
    "    dodge=False, \n",
    "    palette=\"Set2\", \n",
    "    legend=False\n",
    ")\n",
    "\n",
    "# Tambahkan nilai di atas bar\n",
    "for container in ax.containers:\n",
    "    ax.bar_label(container, fmt='%d')\n",
    "\n",
    "plt.title(\"Kategori Produk dengan Pembelian Terbanyak\")\n",
    "plt.xlabel(\"Kategori Produk\")\n",
    "plt.ylabel(\"Jumlah Pembelian\")\n",
    "plt.show()\n"
   ]
  },
  {
   "cell_type": "code",
   "execution_count": null,
   "id": "8a25cf4d-b0d2-409f-a9ad-297c8db9e1ce",
   "metadata": {},
   "outputs": [],
   "source": [
    "import pandas as pd\n",
    "import seaborn as sns\n",
    "import matplotlib.pyplot as plt\n",
    "\n",
    "# Menghitung jumlah pembelian berdasarkan Color dan Season\n",
    "color_season_counts = data.groupby([\"Color\", \"Season\"]).size().reset_index(name=\"Purchase Count\")\n",
    "\n",
    "# Urutkan berdasarkan musim dan jumlah pembelian\n",
    "color_season_top = color_season_counts.sort_values([\"Season\", \"Purchase Count\"], ascending=[True, False])\n",
    "\n",
    "# Ambil warna teratas per musim\n",
    "top_colors_per_season = color_season_top.groupby(\"Season\").head(1)\n",
    "print(\"Warna Terpopuler per Musim:\")\n",
    "print(top_colors_per_season)\n"
   ]
  },
  {
   "cell_type": "code",
   "execution_count": null,
   "id": "db635f6a-4b0e-4e01-b126-032ce2c2aa12",
   "metadata": {},
   "outputs": [],
   "source": [
    "plt.figure(figsize=(10, 6))\n",
    "sns.barplot(data=top_colors_per_season, x=\"Season\", y=\"Purchase Count\", hue=\"Color\", palette=\"Set2\")\n",
    "plt.title(\"Warna Paling Populer per Musim\")\n",
    "plt.xlabel(\"Musim\")\n",
    "plt.ylabel(\"Jumlah Pembelian\")\n",
    "plt.show()"
   ]
  },
  {
   "cell_type": "code",
   "execution_count": null,
   "id": "7a11c72b-6e10-444f-9a5d-d366d7795284",
   "metadata": {},
   "outputs": [],
   "source": [
    "import pandas as pd\n",
    "import seaborn as sns\n",
    "import matplotlib.pyplot as plt\n",
    "\n",
    "# Hitung total pembelian berdasarkan Season dan Category\n",
    "season_category_counts = data.groupby([\"Season\", \"Category\"])[\"Purchase Amount (USD)\"].sum().reset_index()\n",
    "\n",
    "# Membuat pivot table\n",
    "pivot_table = season_category_counts.pivot(index=\"Category\", columns=\"Season\", values=\"Purchase Amount (USD)\").fillna(0)\n",
    "\n",
    "# Tampilkan pivot table hasil agregasi\n",
    "print(\"Distribusi Kategori per Musim:\")\n",
    "print(pivot_table)\n",
    "\n",
    "# Visualisasi Heatmap\n",
    "plt.figure(figsize=(12, 6))\n",
    "sns.heatmap(pivot_table, annot=True, cmap=\"YlGnBu\", fmt=\".2f\")\n",
    "plt.title(\"Korelasi Kategori dan Musim dalam Total Pembelian\")\n",
    "plt.xlabel(\"Musim\")\n",
    "plt.ylabel(\"Kategori Produk\")\n",
    "plt.show()\n"
   ]
  },
  {
   "cell_type": "code",
   "execution_count": null,
   "id": "f83de1b3-9519-4ed0-89e2-d8e3bd4430a3",
   "metadata": {},
   "outputs": [],
   "source": [
    "#Kategori Paling Populer di Semua Musim:\n",
    "#Kategori Clothing secara konsisten memiliki total penjualan tertinggi dibandingkan dengan kategori lain di semua musim.\n",
    "\n",
    "#Kategori Populer Berdasarkan Musim:\n",
    "\n",
    "#Accessories cenderung memiliki performa penjualan yang stabil sepanjang tahun dengan nilai penjualan yang tidak jauh berbeda antar musim.\n",
    "#Footwear lebih populer selama musim Spring dibanding musim lainnya.\n",
    "#Outerwear memiliki nilai penjualan yang lebih tinggi di musim Fall dan Winter, yang sesuai dengan kebutuhan pakaian hangat.\n",
    "#Penjualan Musiman:\n",
    "#Musim Spring dan Winter menunjukkan tren penjualan yang tinggi secara keseluruhan untuk kategori produk utama seperti Clothing dan Accessories.\n",
    "\n",
    "#Perbedaan Kategori Niche:\n",
    "#Kategori Outerwear memiliki nilai penjualan yang paling rendah dibanding kategori lainnya, namun masih cukup relevan untuk musim dingin dan musim gugur.\n",
    "\n",
    "#Insight Bisnis\n",
    "#Promosi khusus pada produk Clothing dan Accessories dapat dilakukan sepanjang tahun.\n",
    "#Untuk Footwear, pertimbangkan penawaran khusus selama musim semi.\n",
    "#Fokus pada penjualan Outerwear di musim dingin dan gugur untuk memaksimalkan pendapatan dari kategori tersebut."
   ]
  },
  {
   "cell_type": "code",
   "execution_count": null,
   "id": "dabc7c98-2946-4fd4-894d-49507fcdf5a6",
   "metadata": {},
   "outputs": [],
   "source": [
    "import pandas as pd\n",
    "import seaborn as sns\n",
    "import matplotlib.pyplot as plt\n",
    "\n",
    "# Contoh DataFrame\n",
    "# data = pd.read_csv(\"data_penjualan.csv\")  # Ganti dengan dataset Anda\n",
    "\n",
    "# Hitung jumlah pembelian berdasarkan Color, Season, dan Category\n",
    "color_season_category_counts = data.groupby([\"Color\", \"Season\", \"Category\"]).size().reset_index(name=\"Purchase Count\")\n",
    "\n",
    "# Buat pivot table untuk memvisualisasikan data\n",
    "pivot_table = color_season_category_counts.pivot_table(\n",
    "    index=\"Color\", columns=[\"Season\", \"Category\"], values=\"Purchase Count\", aggfunc=\"sum\", fill_value=0\n",
    ")\n",
    "\n",
    "print(\"Distribusi Warna, Musim, dan Kategori Produk:\")\n",
    "print(pivot_table)\n",
    "\n",
    "# Visualisasi heatmap\n",
    "plt.figure(figsize=(14, 8))\n",
    "sns.heatmap(pivot_table, cmap=\"YlGnBu\", annot=True, fmt=\".0f\")\n",
    "plt.title(\"Korelasi Warna, Musim, dan Kategori Produk dalam Jumlah Pembelian\")\n",
    "plt.xlabel(\"Musim & Kategori\")\n",
    "plt.ylabel(\"Warna Produk\")\n",
    "plt.xticks(rotation=45, ha=\"right\")\n",
    "plt.show()\n"
   ]
  },
  {
   "cell_type": "code",
   "execution_count": null,
   "id": "c4d5d87c-828a-4306-bdc0-74a863f2ac8e",
   "metadata": {},
   "outputs": [],
   "source": [
    "import pandas as pd\n",
    "import seaborn as sns\n",
    "import matplotlib.pyplot as plt\n",
    "\n",
    "# Contoh dataset yang sudah tersedia\n",
    "data = pd.DataFrame({\n",
    "    \"Gender\": [\"Male\", \"Female\", \"Male\", \"Female\", \"Female\", \"Male\", \"Female\", \"Male\"],\n",
    "    \"Frequency of Purchases\": [5, 7, 3, 6, 9, 2, 10, 4]\n",
    "})\n",
    "\n",
    "# Agregasi data berdasarkan Gender dan Frekuensi Pembelian\n",
    "gender_purchase_data = data.groupby(\"Gender\")[[\"Frequency of Purchases\"]].mean().reset_index()\n",
    "\n",
    "# Visualisasi distribusi frekuensi pembelian berdasarkan gender\n",
    "plt.figure(figsize=(8, 5))\n",
    "sns.barplot(data=gender_purchase_data, x=\"Gender\", y=\"Frequency of Purchases\", palette=\"Blues\")\n",
    "\n",
    "# Menambahkan nilai di atas bar\n",
    "for index, row in gender_purchase_data.iterrows():\n",
    "    plt.text(index, row[\"Frequency of Purchases\"], round(row[\"Frequency of Purchases\"], 1), color='black', ha=\"center\")\n",
    "\n",
    "plt.title(\"Distribusi Frekuensi Pembelian Berdasarkan Gender\")\n",
    "plt.xlabel(\"Gender\")\n",
    "plt.ylabel(\"Rata-rata Frekuensi Pembelian\")\n",
    "plt.show()"
   ]
  },
  {
   "cell_type": "code",
   "execution_count": null,
   "id": "de919172-0b9d-4c46-afe3-6e11981fec45",
   "metadata": {},
   "outputs": [],
   "source": [
    "print(data.columns)"
   ]
  },
  {
   "cell_type": "code",
   "execution_count": null,
   "id": "f61ea21e-93a2-42b0-94dc-5be964e8e2b9",
   "metadata": {},
   "outputs": [],
   "source": [
    "import pandas as pd\n",
    "\n",
    "# Baca file CSV\n",
    "data = pd.read_csv(\"D:/shopping_trends.csv\")\n",
    "\n",
    "# Tampilkan semua kolom untuk memastikan nama yang benar\n",
    "print(\"Kolom yang tersedia:\", data.columns)\n"
   ]
  },
  {
   "cell_type": "code",
   "execution_count": null,
   "id": "19fa06eb-fbb3-4f9e-a3ea-fb411e9f3565",
   "metadata": {},
   "outputs": [],
   "source": [
    "import pandas as pd\n",
    "\n",
    "# Membaca file CSV dengan delimiter yang sesuai\n",
    "data = pd.read_csv(\"D:/shopping_trends.csv\", delimiter=';')\n",
    "\n",
    "# Pastikan kolom yang ingin Anda operasikan berupa angka\n",
    "data[\"Previous Purchases\"] = pd.to_numeric(data[\"Previous Purchases\"], errors='coerce')\n",
    "data[\"Purchase Amount (USD)\"] = pd.to_numeric(data[\"Purchase Amount (USD)\"], errors='coerce')\n",
    "\n",
    "# Hitung Total Pembelian\n",
    "data[\"Total Pembelian\"] = data[\"Previous Purchases\"] * data[\"Purchase Amount (USD)\"]\n",
    "\n",
    "# Lihat 5 baris pertama\n",
    "print(data.head())"
   ]
  },
  {
   "cell_type": "code",
   "execution_count": null,
   "id": "0952d669-b469-41b0-86be-f3d0bcc04e5c",
   "metadata": {},
   "outputs": [],
   "source": [
    "import pandas as pd\n",
    "\n",
    "# Membaca file CSV dengan delimiter yang sesuai\n",
    "data = pd.read_csv(\"D:/shopping_trends.csv\", delimiter=';')\n",
    "\n",
    "# Pastikan kolom yang ingin Anda operasikan berupa angka\n",
    "data[\"Previous Purchases\"] = pd.to_numeric(data[\"Previous Purchases\"], errors='coerce')\n",
    "data[\"Purchase Amount (USD)\"] = pd.to_numeric(data[\"Purchase Amount (USD)\"], errors='coerce')\n",
    "\n",
    "# Hitung Total Pembelian\n",
    "data[\"Total Pembelian\"] = data[\"Previous Purchases\"] * data[\"Purchase Amount (USD)\"]\n",
    "# Tentukan urutan kategori frekuensi\n",
    "frequency_order = {\n",
    "    'Every 3 Months'  :  3,\n",
    "    'Annually'   :      1,\n",
    "    'Quarterly'    :     2,\n",
    "    'Monthly'     :      4,\n",
    "    'Bi-Weekly'     :   5,\n",
    "    'Fortnightly'  :     6,\n",
    "    'Weekly'        :   7,\n",
    "\n",
    "}\n",
    "\n",
    "# Pastikan hanya kolom yang relevan digunakan\n",
    "if \"Frequency of Purchases\" in data.columns:\n",
    "    # Mapping kategori frekuensi ke skor\n",
    "    data[\"Frequency Score\"] = data[\"Frequency of Purchases\"].map(frequency_order)\n",
    "    print(data[[\"Frequency of Purchases\", \"Frequency Score\"]].head())\n",
    "else:\n",
    "    print(\"Kolom 'Frequency of Purchases' tidak ditemukan.\")\n",
    "\n",
    "# Lihat 5 baris pertama\n",
    "print(data.head())"
   ]
  },
  {
   "cell_type": "code",
   "execution_count": null,
   "id": "bdbf3d98",
   "metadata": {},
   "outputs": [],
   "source": [
    "import pandas as pd\n",
    "\n",
    "# Membaca file CSV dengan delimiter yang sesuai\n",
    "data = pd.read_csv(\"D:/shopping_trends.csv\", delimiter=';')\n",
    "\n",
    "# Pastikan kolom yang ingin Anda operasikan berupa angka\n",
    "data[\"Previous Purchases\"] = pd.to_numeric(data[\"Previous Purchases\"], errors='coerce')\n",
    "data[\"Purchase Amount (USD)\"] = pd.to_numeric(data[\"Purchase Amount (USD)\"], errors='coerce')\n",
    "\n",
    "# Hitung Total Pembelian\n",
    "data[\"Total Pembelian\"] = data[\"Previous Purchases\"] * data[\"Purchase Amount (USD)\"]\n",
    "# Tentukan urutan kategori frekuensi\n",
    "frequency_order = {\n",
    "    'Every 3 Months'  :  3,\n",
    "    'Annually'   :      1,\n",
    "    'Quarterly'    :     2,\n",
    "    'Monthly'     :      4,\n",
    "    'Bi-Weekly'     :   5,\n",
    "    'Fortnightly'  :     6,\n",
    "    'Weekly'        :   7,\n",
    "\n",
    "}\n",
    "# Beri skor Purchase Amount\n",
    "def purchase_amount_score(value):\n",
    "    if value >= 500: return 5\n",
    "    elif value >= 300: return 4\n",
    "    elif value >= 200: return 3\n",
    "    elif value >= 100: return 2\n",
    "    else: return 1\n",
    "# Beri skor Total Pembelian\n",
    "def total_purchase_score(value):\n",
    "    if value >= 5000: return 5\n",
    "    elif value >= 4000: return 4\n",
    "    elif value >= 3000: return 3\n",
    "    elif value >= 2000: return 2\n",
    "    else: return 1\n",
    "        \n",
    "# Pastikan hanya kolom yang relevan digunakan\n",
    "if \"Frequency of Purchases\" in data.columns:\n",
    "    # Mapping kategori frekuensi ke skor\n",
    "    data[\"Frequency Score\"] = data[\"Frequency of Purchases\"].map(frequency_order)\n",
    "    print(data[[\"Frequency of Purchases\", \"Frequency Score\"]].head())\n",
    "else:\n",
    "    print(\"Kolom 'Frequency of Purchases' tidak ditemukan.\")\n",
    "data[\"Total Pembelian Score\"] = data[\"Total Pembelian\"].apply(total_purchase_score)\n",
    "data[\"Purchase Amount Score\"] = data[\"Purchase Amount (USD)\"].apply(purchase_amount_score)\n",
    "# Lihat 5 baris pertama\n",
    "print(data.head())"
   ]
  },
  {
   "cell_type": "code",
   "execution_count": null,
   "id": "e4cb7b11-3f9d-4a14-849c-0da124fe7925",
   "metadata": {},
   "outputs": [],
   "source": [
    "print(data['Frequency of Purchases'].value_counts())"
   ]
  },
  {
   "cell_type": "code",
   "execution_count": null,
   "id": "03b5d320-3f0c-4b6b-abdb-a006fcdf3ffa",
   "metadata": {},
   "outputs": [],
   "source": [
    "data.info()"
   ]
  },
  {
   "cell_type": "code",
   "execution_count": null,
   "id": "87edbcce-573f-4d4f-a00e-d4ddf3c3e3e4",
   "metadata": {},
   "outputs": [],
   "source": [
    "#sudah mendapatkan data untuk analisis rfm\n",
    "print(data[[\"Customer ID\",\"Purchase Amount Score\", \"Total Pembelian Score\",\"Frequency Score\"]].head())"
   ]
  },
  {
   "cell_type": "code",
   "execution_count": null,
   "id": "0d98d647-1594-4160-abf9-33cab47ddb24",
   "metadata": {},
   "outputs": [],
   "source": [
    "# Menampilkan 5 data teratas yang disortir berdasarkan \"Purchase Amount (USD),\"Total Pembelian\", \"Frequency Score\"]\" secara descending\n",
    "sorted_data = data[[\"Customer ID\", \"Purchase Amount Score\", \"Total Pembelian Score\", \"Frequency Score\"]].sort_values(\n",
    "    by=[\"Purchase Amount Score\", \"Total Pembelian Score\", \"Frequency Score\"],\n",
    "    ascending=False\n",
    ")\n",
    "# Cetak hasil\n",
    "print(sorted_data.head())"
   ]
  },
  {
   "cell_type": "code",
   "execution_count": null,
   "id": "5bdb27bc-995b-47b5-9ded-2c54c0ef8654",
   "metadata": {},
   "outputs": [],
   "source": [
    "# Tambahkan kolom Datarfm sebagai jumlah dari tiga skor\n",
    "data[\"Datarfm\"] = (\n",
    "    data[\"Purchase Amount Score\"] +\n",
    "    data[\"Total Pembelian Score\"] +\n",
    "    data[\"Frequency Score\"]\n",
    ")\n",
    "\n",
    "# Lihat hasil\n",
    "print(data[[\"Customer ID\", \"Datarfm\"]].head())\n"
   ]
  },
  {
   "cell_type": "code",
   "execution_count": null,
   "id": "69357e9f-5af3-459f-bcb2-38ad5bcc7056",
   "metadata": {},
   "outputs": [],
   "source": [
    "# Sortir data berdasarkan kolom 'Datarfm' secara descending\n",
    "sorted_datarfm = data[[\"Customer ID\", \"Datarfm\"]].sort_values(\n",
    "    by=\"Datarfm\", \n",
    "    ascending=False\n",
    ")\n",
    "\n",
    "# Cetak 5 data teratas\n",
    "print(sorted_datarfm.head())\n"
   ]
  },
  {
   "cell_type": "code",
   "execution_count": null,
   "id": "c88298c7-2ab2-4d0e-86c6-871a8cde602e",
   "metadata": {},
   "outputs": [],
   "source": [
    "print(sorted_datarfm.head(10))  # Menampilkan 10 data teratas"
   ]
  },
  {
   "cell_type": "code",
   "execution_count": null,
   "id": "198d4e00",
   "metadata": {},
   "outputs": [],
   "source": [
    "print(sorted_datarfm.head(110))  # Menampilkan 110 data teratas"
   ]
  },
  {
   "cell_type": "code",
   "execution_count": null,
   "id": "50bf9c88-1652-4d67-bc3c-3534e963a80e",
   "metadata": {},
   "outputs": [],
   "source": [
    "#kesimpulan customer terbaik adalah customer ID 1847 "
   ]
  }
 ],
 "metadata": {
  "kernelspec": {
   "display_name": "Python 3 (ipykernel)",
   "language": "python",
   "name": "python3"
  },
  "language_info": {
   "codemirror_mode": {
    "name": "ipython",
    "version": 3
   },
   "file_extension": ".py",
   "mimetype": "text/x-python",
   "name": "python",
   "nbconvert_exporter": "python",
   "pygments_lexer": "ipython3",
   "version": "3.12.7"
  }
 },
 "nbformat": 4,
 "nbformat_minor": 5
}
